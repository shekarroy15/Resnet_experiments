{
  "nbformat": 4,
  "nbformat_minor": 0,
  "metadata": {
    "colab": {
      "name": "resnet_preprocessing_self_+_deeper_model.ipynb",
      "provenance": [],
      "collapsed_sections": [],
      "include_colab_link": true
    },
    "kernelspec": {
      "name": "python3",
      "display_name": "Python 3"
    },
    "language_info": {
      "name": "python"
    },
    "accelerator": "GPU"
  },
  "cells": [
    {
      "cell_type": "markdown",
      "metadata": {
        "id": "view-in-github",
        "colab_type": "text"
      },
      "source": [
        "<a href=\"https://colab.research.google.com/github/shekarroy15/Our-Capstone-Project/blob/main/Final_Resnet50_withPredictions.ipynb\" target=\"_parent\"><img src=\"https://colab.research.google.com/assets/colab-badge.svg\" alt=\"Open In Colab\"/></a>"
      ]
    },
    {
      "cell_type": "code",
      "execution_count": 23,
      "metadata": {
        "id": "qCPEG_Gvtori"
      },
      "outputs": [],
      "source": [
        "import pandas as pd\n",
        "import numpy as np \n",
        "import matplotlib.pyplot as plt\n",
        "%matplotlib inline\n",
        "\n",
        "from keras.preprocessing.image import ImageDataGenerator, array_to_img, img_to_array, load_img\n",
        "import tensorflow as tf\n",
        "\n",
        "from tensorflow.keras.applications import ResNet50\n",
        "from tensorflow.keras.applications.resnet50 import preprocess_input\n",
        "from keras.preprocessing.image import ImageDataGenerator\n",
        "from tensorflow.keras.layers import Dense, Dropout, Flatten, MaxPooling2D, GlobalAveragePooling2D, BatchNormalization\n",
        "from tensorflow.keras.optimizers import Adam\n",
        "from tensorflow.keras.models import Sequential, model_from_json\n",
        "from keras.callbacks import ModelCheckpoint, ReduceLROnPlateau\n",
        "\n",
        "import pickle\n",
        "import multiprocessing\n",
        "\n",
        "import seaborn as sns\n",
        "import os\n",
        "import scipy.io"
      ]
    },
    {
      "cell_type": "code",
      "source": [
        "from google.colab import drive\n",
        "drive.mount('/content/drive')"
      ],
      "metadata": {
        "id": "0R-F23W_t-F-",
        "outputId": "8eab753c-a5f8-467b-8ed1-01769ee6338a",
        "colab": {
          "base_uri": "https://localhost:8080/"
        }
      },
      "execution_count": 19,
      "outputs": [
        {
          "output_type": "stream",
          "name": "stdout",
          "text": [
            "Drive already mounted at /content/drive; to attempt to forcibly remount, call drive.mount(\"/content/drive\", force_remount=True).\n"
          ]
        }
      ]
    },
    {
      "cell_type": "code",
      "source": [
        "# !unzip /content/drive/MyDrive/CAPSTONE_PROJECT/Annotations.zip > /dev/null\n",
        "!unzip /content/drive/MyDrive/CAPSTONE_PROJECT/Car+Images.zip > /dev/null"
      ],
      "metadata": {
        "id": "5rDPoFYy5o_Q"
      },
      "execution_count": null,
      "outputs": []
    },
    {
      "cell_type": "code",
      "source": [
        "batch_size = 64 # try 128 and see if colab survives the OOM\n",
        "\n",
        "train_datagen = ImageDataGenerator(\n",
        "                  rescale = 1./255.,\n",
        "                  rotation_range = 25, \n",
        "                  width_shift_range = 0.2, \n",
        "                  height_shift_range = 0.2, \n",
        "                  shear_range = 0.2, \n",
        "                  zoom_range = 0.2, \n",
        "                  horizontal_flip = True,\n",
        "                  fill_mode='constant',\n",
        "                  validation_split=0.2) \n",
        "\n",
        "train_generator = train_datagen.flow_from_directory(\n",
        "        '/content/Car Images/Train Images',  \n",
        "        target_size=(224, 224),  \n",
        "        batch_size=batch_size,\n",
        "        # interpolation='bicubic',\n",
        "        subset='training',\n",
        "        class_mode='categorical')\n",
        "\n",
        "validation_generator = train_datagen.flow_from_directory(\n",
        "        '/content/Car Images/Test Images',\n",
        "        target_size=(224, 224),\n",
        "        batch_size=batch_size,\n",
        "        # interpolation='bicubic',\n",
        "        subset='validation',\n",
        "        class_mode='categorical')\n",
        "\n",
        "Number_Of_Training_Images = train_generator.classes.shape[0]\n",
        "steps_per_epoch = Number_Of_Training_Images/batch_size"
      ],
      "metadata": {
        "id": "zc8NlobCrUdg",
        "outputId": "bf798687-26c3-4078-904a-d1c31d84b0c4",
        "colab": {
          "base_uri": "https://localhost:8080/"
        }
      },
      "execution_count": null,
      "outputs": [
        {
          "output_type": "stream",
          "name": "stdout",
          "text": [
            "Found 6598 images belonging to 196 classes.\n",
            "Found 1524 images belonging to 196 classes.\n"
          ]
        }
      ]
    },
    {
      "cell_type": "code",
      "source": [
        "!pip install wandb \n",
        "!wandb login"
      ],
      "metadata": {
        "id": "TgFPZs35Ihju"
      },
      "execution_count": null,
      "outputs": []
    },
    {
      "cell_type": "code",
      "source": [
        "import wandb\n",
        "from wandb.keras import WandbCallback\n",
        "\n",
        "wandb.init(project=\"test-project\", entity=\"capstone7\")"
      ],
      "metadata": {
        "id": "Fk8PeFZIItMN"
      },
      "execution_count": null,
      "outputs": []
    },
    {
      "cell_type": "code",
      "source": [
        "model = Sequential()\n",
        "input_shape = (224,224,3)\n",
        "\n",
        "pretrained_model = ResNet50(\n",
        "                   include_top=False,\n",
        "                   input_shape=input_shape,\n",
        "                   pooling='avg',\n",
        "                   classes=196,\n",
        "                   weights='imagenet')\n",
        "                   \n",
        "# We unfreeze the top 20 layers while leaving BatchNorm layers frozen\n",
        "for layer in pretrained_model.layers[-20:]:\n",
        "      if isinstance(layer, BatchNormalization):\n",
        "        layer.trainable = False\n",
        "      else:\n",
        "        layer.trainable = True   \n",
        "\n",
        "\n",
        "model.add(pretrained_model)\n",
        "#model.add(Flatten())\n",
        "#model.add(BatchNormalization())\n",
        "model.add(Dropout(0.2))\n",
        "model.add(Dense(2048, activation='relu'))\n",
        "model.add(Dense(1024, activation='relu'))\n",
        "model.add(Dense(512, activation='relu'))\n",
        "# model.add(Dropout(0.2))\n",
        "model.add(Dense(196, activation='softmax'))\n",
        "\n",
        "model.summary()\n"
      ],
      "metadata": {
        "id": "sqYqC3W_AHvs",
        "outputId": "a9d90863-ccd5-43aa-e27b-47b02457c511",
        "colab": {
          "base_uri": "https://localhost:8080/"
        }
      },
      "execution_count": null,
      "outputs": [
        {
          "output_type": "stream",
          "name": "stdout",
          "text": [
            "Downloading data from https://storage.googleapis.com/tensorflow/keras-applications/resnet/resnet50_weights_tf_dim_ordering_tf_kernels_notop.h5\n",
            "94773248/94765736 [==============================] - 1s 0us/step\n",
            "94781440/94765736 [==============================] - 1s 0us/step\n",
            "Model: \"sequential\"\n",
            "_________________________________________________________________\n",
            " Layer (type)                Output Shape              Param #   \n",
            "=================================================================\n",
            " resnet50 (Functional)       (None, 2048)              23587712  \n",
            "                                                                 \n",
            " dropout (Dropout)           (None, 2048)              0         \n",
            "                                                                 \n",
            " dense (Dense)               (None, 2048)              4196352   \n",
            "                                                                 \n",
            " dense_1 (Dense)             (None, 1024)              2098176   \n",
            "                                                                 \n",
            " dense_2 (Dense)             (None, 512)               524800    \n",
            "                                                                 \n",
            " dense_3 (Dense)             (None, 196)               100548    \n",
            "                                                                 \n",
            "=================================================================\n",
            "Total params: 30,507,588\n",
            "Trainable params: 30,442,180\n",
            "Non-trainable params: 65,408\n",
            "_________________________________________________________________\n"
          ]
        }
      ]
    },
    {
      "cell_type": "code",
      "source": [
        "model.compile(optimizer=Adam(learning_rate=1e-5, epsilon=1e-08), loss='categorical_crossentropy', metrics=['accuracy'])"
      ],
      "metadata": {
        "id": "07Lwq7LcB5Ka"
      },
      "execution_count": null,
      "outputs": []
    },
    {
      "cell_type": "code",
      "source": [
        "early = tf.keras.callbacks.EarlyStopping(monitor='val_loss', min_delta=1e-2, patience=3, mode='auto')\n",
        "checkpointer = ModelCheckpoint(filepath='saved_models/best_resnet.hdf5', verbose=1, save_best_only=True)\n",
        "learning_rate_reduction = ReduceLROnPlateau(monitor='val_accuracy', patience=2, verbose=1, factor=0.1, min_lr=0.0001)\n",
        "\n",
        "history = model.fit(train_generator, epochs = 30, \n",
        "                    validation_data = validation_generator,\n",
        "                    steps_per_epoch = steps_per_epoch,\n",
        "                    callbacks=[learning_rate_reduction, checkpointer],\n",
        "                    workers=multiprocessing.cpu_count())"
      ],
      "metadata": {
        "id": "vFIJ6EhFWCXx",
        "outputId": "cebebdd6-0c81-45e3-a02d-0776ed1107c6",
        "colab": {
          "base_uri": "https://localhost:8080/"
        }
      },
      "execution_count": null,
      "outputs": [
        {
          "output_type": "stream",
          "name": "stdout",
          "text": [
            "Epoch 1/30\n",
            "104/103 [==============================] - ETA: -1s - loss: 0.8704 - accuracy: 0.7499\n",
            "Epoch 1: val_loss improved from inf to 1.87577, saving model to saved_models/best_resnet.hdf5\n",
            "103/103 [==============================] - 202s 2s/step - loss: 0.8704 - accuracy: 0.7499 - val_loss: 1.8758 - val_accuracy: 0.5525 - lr: 1.0000e-05\n",
            "Epoch 2/30\n",
            "104/103 [==============================] - ETA: -1s - loss: 0.7908 - accuracy: 0.7734\n",
            "Epoch 2: val_loss improved from 1.87577 to 1.79331, saving model to saved_models/best_resnet.hdf5\n",
            "103/103 [==============================] - 200s 2s/step - loss: 0.7908 - accuracy: 0.7734 - val_loss: 1.7933 - val_accuracy: 0.5538 - lr: 1.0000e-05\n",
            "Epoch 3/30\n",
            "104/103 [==============================] - ETA: -1s - loss: 0.7261 - accuracy: 0.7871\n",
            "Epoch 3: val_loss did not improve from 1.79331\n",
            "103/103 [==============================] - 198s 2s/step - loss: 0.7261 - accuracy: 0.7871 - val_loss: 1.8194 - val_accuracy: 0.5741 - lr: 1.0000e-05\n",
            "Epoch 4/30\n",
            "104/103 [==============================] - ETA: -1s - loss: 0.6836 - accuracy: 0.7974\n",
            "Epoch 4: val_loss improved from 1.79331 to 1.75924, saving model to saved_models/best_resnet.hdf5\n",
            "103/103 [==============================] - 202s 2s/step - loss: 0.6836 - accuracy: 0.7974 - val_loss: 1.7592 - val_accuracy: 0.5860 - lr: 1.0000e-05\n",
            "Epoch 5/30\n",
            "104/103 [==============================] - ETA: -1s - loss: 0.6279 - accuracy: 0.8134\n",
            "Epoch 5: val_loss did not improve from 1.75924\n",
            "103/103 [==============================] - 198s 2s/step - loss: 0.6279 - accuracy: 0.8134 - val_loss: 1.7674 - val_accuracy: 0.5787 - lr: 1.0000e-05\n",
            "Epoch 6/30\n",
            "104/103 [==============================] - ETA: -1s - loss: 0.5986 - accuracy: 0.8184\n",
            "Epoch 6: val_loss did not improve from 1.75924\n",
            "103/103 [==============================] - 199s 2s/step - loss: 0.5986 - accuracy: 0.8184 - val_loss: 1.8240 - val_accuracy: 0.5781 - lr: 1.0000e-05\n",
            "Epoch 7/30\n",
            "104/103 [==============================] - ETA: -1s - loss: 0.5659 - accuracy: 0.8306\n",
            "Epoch 7: val_loss did not improve from 1.75924\n",
            "103/103 [==============================] - 199s 2s/step - loss: 0.5659 - accuracy: 0.8306 - val_loss: 1.7620 - val_accuracy: 0.5807 - lr: 1.0000e-05\n",
            "Epoch 8/30\n",
            "104/103 [==============================] - ETA: -1s - loss: 0.5192 - accuracy: 0.8415\n",
            "Epoch 8: val_loss did not improve from 1.75924\n",
            "103/103 [==============================] - 199s 2s/step - loss: 0.5192 - accuracy: 0.8415 - val_loss: 1.7655 - val_accuracy: 0.5866 - lr: 1.0000e-05\n",
            "Epoch 9/30\n",
            "104/103 [==============================] - ETA: -1s - loss: 0.4720 - accuracy: 0.8562\n",
            "Epoch 9: val_loss did not improve from 1.75924\n",
            "103/103 [==============================] - 198s 2s/step - loss: 0.4720 - accuracy: 0.8562 - val_loss: 1.8215 - val_accuracy: 0.5801 - lr: 1.0000e-05\n",
            "Epoch 10/30\n",
            "104/103 [==============================] - ETA: -1s - loss: 0.4531 - accuracy: 0.8657\n",
            "Epoch 10: val_loss did not improve from 1.75924\n",
            "103/103 [==============================] - 199s 2s/step - loss: 0.4531 - accuracy: 0.8657 - val_loss: 1.8017 - val_accuracy: 0.5807 - lr: 1.0000e-05\n",
            "Epoch 11/30\n",
            "104/103 [==============================] - ETA: -1s - loss: 0.4229 - accuracy: 0.8698\n",
            "Epoch 11: val_loss improved from 1.75924 to 1.73270, saving model to saved_models/best_resnet.hdf5\n",
            "103/103 [==============================] - 199s 2s/step - loss: 0.4229 - accuracy: 0.8698 - val_loss: 1.7327 - val_accuracy: 0.6024 - lr: 1.0000e-05\n",
            "Epoch 12/30\n",
            "104/103 [==============================] - ETA: -1s - loss: 0.4143 - accuracy: 0.8747\n",
            "Epoch 12: val_loss did not improve from 1.73270\n",
            "103/103 [==============================] - 198s 2s/step - loss: 0.4143 - accuracy: 0.8747 - val_loss: 1.7662 - val_accuracy: 0.5965 - lr: 1.0000e-05\n",
            "Epoch 13/30\n",
            "104/103 [==============================] - ETA: -1s - loss: 0.3540 - accuracy: 0.8945\n",
            "Epoch 13: val_loss did not improve from 1.73270\n",
            "103/103 [==============================] - 200s 2s/step - loss: 0.3540 - accuracy: 0.8945 - val_loss: 1.7997 - val_accuracy: 0.5991 - lr: 1.0000e-05\n",
            "Epoch 14/30\n",
            "104/103 [==============================] - ETA: -1s - loss: 0.3628 - accuracy: 0.8886\n",
            "Epoch 14: val_loss improved from 1.73270 to 1.64514, saving model to saved_models/best_resnet.hdf5\n",
            "103/103 [==============================] - 203s 2s/step - loss: 0.3628 - accuracy: 0.8886 - val_loss: 1.6451 - val_accuracy: 0.6266 - lr: 1.0000e-05\n",
            "Epoch 15/30\n",
            "104/103 [==============================] - ETA: -1s - loss: 0.3256 - accuracy: 0.8941\n",
            "Epoch 15: val_loss did not improve from 1.64514\n",
            "103/103 [==============================] - 198s 2s/step - loss: 0.3256 - accuracy: 0.8941 - val_loss: 1.8296 - val_accuracy: 0.5912 - lr: 1.0000e-05\n",
            "Epoch 16/30\n",
            "104/103 [==============================] - ETA: -1s - loss: 0.3136 - accuracy: 0.9007\n",
            "Epoch 16: val_loss did not improve from 1.64514\n",
            "103/103 [==============================] - 200s 2s/step - loss: 0.3136 - accuracy: 0.9007 - val_loss: 2.2194 - val_accuracy: 0.5308 - lr: 1.0000e-05\n",
            "Epoch 17/30\n",
            "104/103 [==============================] - ETA: -1s - loss: 0.3283 - accuracy: 0.8995\n",
            "Epoch 17: val_loss did not improve from 1.64514\n",
            "103/103 [==============================] - 198s 2s/step - loss: 0.3283 - accuracy: 0.8995 - val_loss: 1.7632 - val_accuracy: 0.6207 - lr: 1.0000e-05\n",
            "Epoch 18/30\n",
            "104/103 [==============================] - ETA: -1s - loss: 0.2683 - accuracy: 0.9135\n",
            "Epoch 18: val_loss did not improve from 1.64514\n",
            "103/103 [==============================] - 198s 2s/step - loss: 0.2683 - accuracy: 0.9135 - val_loss: 1.8234 - val_accuracy: 0.6056 - lr: 1.0000e-05\n",
            "Epoch 19/30\n",
            "104/103 [==============================] - ETA: -1s - loss: 0.2630 - accuracy: 0.9215\n",
            "Epoch 19: val_loss did not improve from 1.64514\n",
            "103/103 [==============================] - 198s 2s/step - loss: 0.2630 - accuracy: 0.9215 - val_loss: 1.9629 - val_accuracy: 0.5860 - lr: 1.0000e-05\n",
            "Epoch 20/30\n",
            "104/103 [==============================] - ETA: -1s - loss: 0.2575 - accuracy: 0.9229\n",
            "Epoch 20: val_loss did not improve from 1.64514\n",
            "103/103 [==============================] - 200s 2s/step - loss: 0.2575 - accuracy: 0.9229 - val_loss: 1.7422 - val_accuracy: 0.6161 - lr: 1.0000e-05\n",
            "Epoch 21/30\n",
            "104/103 [==============================] - ETA: -1s - loss: 0.2231 - accuracy: 0.9292\n",
            "Epoch 21: val_loss did not improve from 1.64514\n",
            "103/103 [==============================] - 197s 2s/step - loss: 0.2231 - accuracy: 0.9292 - val_loss: 1.8867 - val_accuracy: 0.6273 - lr: 1.0000e-05\n",
            "Epoch 22/30\n",
            "104/103 [==============================] - ETA: -1s - loss: 0.2715 - accuracy: 0.9168\n",
            "Epoch 22: val_loss did not improve from 1.64514\n",
            "103/103 [==============================] - 200s 2s/step - loss: 0.2715 - accuracy: 0.9168 - val_loss: 1.7719 - val_accuracy: 0.6234 - lr: 1.0000e-05\n",
            "Epoch 23/30\n",
            "104/103 [==============================] - ETA: -1s - loss: 0.2524 - accuracy: 0.9230\n",
            "Epoch 23: val_loss did not improve from 1.64514\n",
            "103/103 [==============================] - 208s 2s/step - loss: 0.2524 - accuracy: 0.9230 - val_loss: 1.8434 - val_accuracy: 0.6299 - lr: 1.0000e-05\n",
            "Epoch 24/30\n",
            "104/103 [==============================] - ETA: -1s - loss: 0.2341 - accuracy: 0.9307\n",
            "Epoch 24: val_loss did not improve from 1.64514\n",
            "103/103 [==============================] - 199s 2s/step - loss: 0.2341 - accuracy: 0.9307 - val_loss: 1.7356 - val_accuracy: 0.6155 - lr: 1.0000e-05\n",
            "Epoch 25/30\n",
            "104/103 [==============================] - ETA: -1s - loss: 0.2193 - accuracy: 0.9307\n",
            "Epoch 25: val_loss did not improve from 1.64514\n",
            "103/103 [==============================] - 201s 2s/step - loss: 0.2193 - accuracy: 0.9307 - val_loss: 1.6567 - val_accuracy: 0.6306 - lr: 1.0000e-05\n",
            "Epoch 26/30\n",
            "104/103 [==============================] - ETA: -1s - loss: 0.1900 - accuracy: 0.9397\n",
            "Epoch 26: val_loss did not improve from 1.64514\n",
            "103/103 [==============================] - 201s 2s/step - loss: 0.1900 - accuracy: 0.9397 - val_loss: 1.7677 - val_accuracy: 0.6260 - lr: 1.0000e-05\n",
            "Epoch 27/30\n",
            "104/103 [==============================] - ETA: -1s - loss: 0.1814 - accuracy: 0.9441\n",
            "Epoch 27: val_loss did not improve from 1.64514\n",
            "103/103 [==============================] - 199s 2s/step - loss: 0.1814 - accuracy: 0.9441 - val_loss: 1.8243 - val_accuracy: 0.6194 - lr: 1.0000e-05\n",
            "Epoch 28/30\n",
            "104/103 [==============================] - ETA: -1s - loss: 0.1756 - accuracy: 0.9421\n",
            "Epoch 28: val_loss did not improve from 1.64514\n",
            "103/103 [==============================] - 199s 2s/step - loss: 0.1756 - accuracy: 0.9421 - val_loss: 1.8567 - val_accuracy: 0.6122 - lr: 1.0000e-05\n",
            "Epoch 29/30\n",
            "104/103 [==============================] - ETA: -1s - loss: 0.1691 - accuracy: 0.9503\n",
            "Epoch 29: val_loss did not improve from 1.64514\n",
            "103/103 [==============================] - 198s 2s/step - loss: 0.1691 - accuracy: 0.9503 - val_loss: 1.7123 - val_accuracy: 0.6503 - lr: 1.0000e-05\n",
            "Epoch 30/30\n",
            "104/103 [==============================] - ETA: -1s - loss: 0.1664 - accuracy: 0.9471\n",
            "Epoch 30: val_loss did not improve from 1.64514\n",
            "103/103 [==============================] - 199s 2s/step - loss: 0.1664 - accuracy: 0.9471 - val_loss: 1.8351 - val_accuracy: 0.6339 - lr: 1.0000e-05\n"
          ]
        }
      ]
    },
    {
      "cell_type": "code",
      "source": [
        "train_acc = history.history['accuracy']\n",
        "val_acc = history.history['val_accuracy']\n",
        "train_loss = history.history['loss']\n",
        "val_loss = history.history['val_loss']\n",
        "No_Of_Epochs = range(30)\n",
        "\n",
        "plt.plot(No_Of_Epochs, train_acc, marker = 'o', color = 'blue', markersize = 12, linewidth = 2, label = 'Training Accuracy')\n",
        "plt.plot(No_Of_Epochs, val_acc, marker = '.', color = 'red', markersize = 12,linewidth = 2, label = 'Validation Accuracy')\n",
        "\n",
        "plt.title('Training Accuracy and Testing Accuracy w.r.t Number of Epochs')\n",
        "plt.legend()\n",
        "plt.figure()\n",
        "\n",
        "plt.plot(No_Of_Epochs, train_loss, marker = 'o', color = 'blue', markersize = 12, linewidth = 2, label = 'Training Loss')\n",
        "plt.plot(No_Of_Epochs, val_acc, marker = '.', color = 'red', markersize = 12, linewidth = 2, label = 'Validation Loss')\n",
        "\n",
        "plt.title('Training Loss and Testing Loss w.r.t Number of Epochs')\n",
        "plt.legend()\n",
        "\n",
        "plt.show()\n",
        "\n"
      ],
      "metadata": {
        "id": "cIei4aDLPfhm",
        "outputId": "3a1d2b30-96e4-48a8-c504-722a383f42ac",
        "colab": {
          "base_uri": "https://localhost:8080/",
          "height": 545
        }
      },
      "execution_count": null,
      "outputs": [
        {
          "output_type": "display_data",
          "data": {
            "text/plain": [
              "<Figure size 432x288 with 1 Axes>"
            ],
            "image/png": "[encoded data removed]"
          },
          "metadata": {
            "needs_background": "light"
          }
        },
        {
          "output_type": "display_data",
          "data": {
            "text/plain": [
              "<Figure size 432x288 with 1 Axes>"
            ],
            "image/png": "[encoded data removed]"
          },
          "metadata": {
            "needs_background": "light"
          }
        }
      ]
    },
    {
      "cell_type": "code",
      "source": [
        "loaded_model = tf.keras.models.load_model('/content/drive/MyDrive/best_resnet.hdf5')"
      ],
      "metadata": {
        "id": "rbYGGtz8F8rn"
      },
      "execution_count": null,
      "outputs": []
    },
    {
      "cell_type": "code",
      "source": [
        "test_datagen = ImageDataGenerator(rescale=1./255)\n",
        "\n",
        "test_generator = test_datagen.flow_from_directory(\n",
        "        '/content/Car Images/Test Images',\n",
        "        target_size=(224, 224),\n",
        "        batch_size=32,\n",
        "        class_mode='categorical',\n",
        "        shuffle=False)\n",
        "pred = loaded_model.predict(test_generator, steps=len(test_generator), verbose=1)\n",
        "# Get classes by max element in np (as a list)\n",
        "classes = list(np.argmax(pred, axis=1))\n",
        "# Get filenames (set shuffle=false in generator is important)\n",
        "filenames = test_generator.filenames"
      ],
      "metadata": {
        "id": "ijdIt_j7F-NQ",
        "outputId": "e291a179-e54e-4136-8cf3-8029af394645",
        "colab": {
          "base_uri": "https://localhost:8080/"
        }
      },
      "execution_count": null,
      "outputs": [
        {
          "output_type": "stream",
          "name": "stdout",
          "text": [
            "Found 8041 images belonging to 196 classes.\n",
            "252/252 [==============================] - 105s 373ms/step\n"
          ]
        }
      ]
    },
    {
      "cell_type": "code",
      "source": [
        "labels = (test_generator.class_indices)\n",
        "labels = dict((v,k) for k,v in labels.items())\n",
        "predictions = [labels[k] for k in classes]"
      ],
      "metadata": {
        "id": "whH8DfpJF-Pn"
      },
      "execution_count": null,
      "outputs": []
    },
    {
      "cell_type": "code",
      "source": [
        "results=pd.DataFrame({\"Filename\":filenames,\"Predictions\":predictions})"
      ],
      "metadata": {
        "id": "Cd1WVeO4F-Sg"
      },
      "execution_count": null,
      "outputs": []
    },
    {
      "cell_type": "code",
      "source": [
        "results.head(15)"
      ],
      "metadata": {
        "id": "xkcI8h2jF-U0",
        "outputId": "20bfddba-04fa-49eb-c179-b1fdbbfe6e14",
        "colab": {
          "base_uri": "https://localhost:8080/",
          "height": 520
        }
      },
      "execution_count": null,
      "outputs": [
        {
          "output_type": "execute_result",
          "data": {
            "text/plain": [
              "                                Filename                  Predictions\n",
              "0   AM General Hummer SUV 2000/00076.jpg   AM General Hummer SUV 2000\n",
              "1   AM General Hummer SUV 2000/00457.jpg   AM General Hummer SUV 2000\n",
              "2   AM General Hummer SUV 2000/00684.jpg   AM General Hummer SUV 2000\n",
              "3   AM General Hummer SUV 2000/01117.jpg   AM General Hummer SUV 2000\n",
              "4   AM General Hummer SUV 2000/01167.jpg   AM General Hummer SUV 2000\n",
              "5   AM General Hummer SUV 2000/01199.jpg  HUMMER H2 SUT Crew Cab 2009\n",
              "6   AM General Hummer SUV 2000/01226.jpg   AM General Hummer SUV 2000\n",
              "7   AM General Hummer SUV 2000/01461.jpg   AM General Hummer SUV 2000\n",
              "8   AM General Hummer SUV 2000/01518.jpg   AM General Hummer SUV 2000\n",
              "9   AM General Hummer SUV 2000/01538.jpg   AM General Hummer SUV 2000\n",
              "10  AM General Hummer SUV 2000/01802.jpg   AM General Hummer SUV 2000\n",
              "11  AM General Hummer SUV 2000/01887.jpg   AM General Hummer SUV 2000\n",
              "12  AM General Hummer SUV 2000/01918.jpg   AM General Hummer SUV 2000\n",
              "13  AM General Hummer SUV 2000/01946.jpg   AM General Hummer SUV 2000\n",
              "14  AM General Hummer SUV 2000/02017.jpg   AM General Hummer SUV 2000"
            ],
            "text/html": [
              "\n",
              "  <div id=\"df-5fe10a72-9ace-4035-8958-1c9f6e079ce0\">\n",
              "    <div class=\"colab-df-container\">\n",
              "      <div>\n",
              "<style scoped>\n",
              "    .dataframe tbody tr th:only-of-type {\n",
              "        vertical-align: middle;\n",
              "    }\n",
              "\n",
              "    .dataframe tbody tr th {\n",
              "        vertical-align: top;\n",
              "    }\n",
              "\n",
              "    .dataframe thead th {\n",
              "        text-align: right;\n",
              "    }\n",
              "</style>\n",
              "<table border=\"1\" class=\"dataframe\">\n",
              "  <thead>\n",
              "    <tr style=\"text-align: right;\">\n",
              "      <th></th>\n",
              "      <th>Filename</th>\n",
              "      <th>Predictions</th>\n",
              "    </tr>\n",
              "  </thead>\n",
              "  <tbody>\n",
              "    <tr>\n",
              "      <th>0</th>\n",
              "      <td>AM General Hummer SUV 2000/00076.jpg</td>\n",
              "      <td>AM General Hummer SUV 2000</td>\n",
              "    </tr>\n",
              "    <tr>\n",
              "      <th>1</th>\n",
              "      <td>AM General Hummer SUV 2000/00457.jpg</td>\n",
              "      <td>AM General Hummer SUV 2000</td>\n",
              "    </tr>\n",
              "    <tr>\n",
              "      <th>2</th>\n",
              "      <td>AM General Hummer SUV 2000/00684.jpg</td>\n",
              "      <td>AM General Hummer SUV 2000</td>\n",
              "    </tr>\n",
              "    <tr>\n",
              "      <th>3</th>\n",
              "      <td>AM General Hummer SUV 2000/01117.jpg</td>\n",
              "      <td>AM General Hummer SUV 2000</td>\n",
              "    </tr>\n",
              "    <tr>\n",
              "      <th>4</th>\n",
              "      <td>AM General Hummer SUV 2000/01167.jpg</td>\n",
              "      <td>AM General Hummer SUV 2000</td>\n",
              "    </tr>\n",
              "    <tr>\n",
              "      <th>5</th>\n",
              "      <td>AM General Hummer SUV 2000/01199.jpg</td>\n",
              "      <td>HUMMER H2 SUT Crew Cab 2009</td>\n",
              "    </tr>\n",
              "    <tr>\n",
              "      <th>6</th>\n",
              "      <td>AM General Hummer SUV 2000/01226.jpg</td>\n",
              "      <td>AM General Hummer SUV 2000</td>\n",
              "    </tr>\n",
              "    <tr>\n",
              "      <th>7</th>\n",
              "      <td>AM General Hummer SUV 2000/01461.jpg</td>\n",
              "      <td>AM General Hummer SUV 2000</td>\n",
              "    </tr>\n",
              "    <tr>\n",
              "      <th>8</th>\n",
              "      <td>AM General Hummer SUV 2000/01518.jpg</td>\n",
              "      <td>AM General Hummer SUV 2000</td>\n",
              "    </tr>\n",
              "    <tr>\n",
              "      <th>9</th>\n",
              "      <td>AM General Hummer SUV 2000/01538.jpg</td>\n",
              "      <td>AM General Hummer SUV 2000</td>\n",
              "    </tr>\n",
              "    <tr>\n",
              "      <th>10</th>\n",
              "      <td>AM General Hummer SUV 2000/01802.jpg</td>\n",
              "      <td>AM General Hummer SUV 2000</td>\n",
              "    </tr>\n",
              "    <tr>\n",
              "      <th>11</th>\n",
              "      <td>AM General Hummer SUV 2000/01887.jpg</td>\n",
              "      <td>AM General Hummer SUV 2000</td>\n",
              "    </tr>\n",
              "    <tr>\n",
              "      <th>12</th>\n",
              "      <td>AM General Hummer SUV 2000/01918.jpg</td>\n",
              "      <td>AM General Hummer SUV 2000</td>\n",
              "    </tr>\n",
              "    <tr>\n",
              "      <th>13</th>\n",
              "      <td>AM General Hummer SUV 2000/01946.jpg</td>\n",
              "      <td>AM General Hummer SUV 2000</td>\n",
              "    </tr>\n",
              "    <tr>\n",
              "      <th>14</th>\n",
              "      <td>AM General Hummer SUV 2000/02017.jpg</td>\n",
              "      <td>AM General Hummer SUV 2000</td>\n",
              "    </tr>\n",
              "  </tbody>\n",
              "</table>\n",
              "</div>\n",
              "      <button class=\"colab-df-convert\" onclick=\"convertToInteractive('df-5fe10a72-9ace-4035-8958-1c9f6e079ce0')\"\n",
              "              title=\"Convert this dataframe to an interactive table.\"\n",
              "              style=\"display:none;\">\n",
              "        \n",
              "  <svg xmlns=\"http://www.w3.org/2000/svg\" height=\"24px\"viewBox=\"0 0 24 24\"\n",
              "       width=\"24px\">\n",
              "    <path d=\"M0 0h24v24H0V0z\" fill=\"none\"/>\n",
              "    <path d=\"M18.56 5.44l.94 2.06.94-2.06 2.06-.94-2.06-.94-.94-2.06-.94 2.06-2.06.94zm-11 1L8.5 8.5l.94-2.06 2.06-.94-2.06-.94L8.5 2.5l-.94 2.06-2.06.94zm10 10l.94 2.06.94-2.06 2.06-.94-2.06-.94-.94-2.06-.94 2.06-2.06.94z\"/><path d=\"M17.41 7.96l-1.37-1.37c-.4-.4-.92-.59-1.43-.59-.52 0-1.04.2-1.43.59L10.3 9.45l-7.72 7.72c-.78.78-.78 2.05 0 2.83L4 21.41c.39.39.9.59 1.41.59.51 0 1.02-.2 1.41-.59l7.78-7.78 2.81-2.81c.8-.78.8-2.07 0-2.86zM5.41 20L4 18.59l7.72-7.72 1.47 1.35L5.41 20z\"/>\n",
              "  </svg>\n",
              "      </button>\n",
              "      \n",
              "  <style>\n",
              "    .colab-df-container {\n",
              "      display:flex;\n",
              "      flex-wrap:wrap;\n",
              "      gap: 12px;\n",
              "    }\n",
              "\n",
              "    .colab-df-convert {\n",
              "      background-color: #E8F0FE;\n",
              "      border: none;\n",
              "      border-radius: 50%;\n",
              "      cursor: pointer;\n",
              "      display: none;\n",
              "      fill: #1967D2;\n",
              "      height: 32px;\n",
              "      padding: 0 0 0 0;\n",
              "      width: 32px;\n",
              "    }\n",
              "\n",
              "    .colab-df-convert:hover {\n",
              "      background-color: #E2EBFA;\n",
              "      box-shadow: 0px 1px 2px rgba(60, 64, 67, 0.3), 0px 1px 3px 1px rgba(60, 64, 67, 0.15);\n",
              "      fill: #174EA6;\n",
              "    }\n",
              "\n",
              "    [theme=dark] .colab-df-convert {\n",
              "      background-color: #3B4455;\n",
              "      fill: #D2E3FC;\n",
              "    }\n",
              "\n",
              "    [theme=dark] .colab-df-convert:hover {\n",
              "      background-color: #434B5C;\n",
              "      box-shadow: 0px 1px 3px 1px rgba(0, 0, 0, 0.15);\n",
              "      filter: drop-shadow(0px 1px 2px rgba(0, 0, 0, 0.3));\n",
              "      fill: #FFFFFF;\n",
              "    }\n",
              "  </style>\n",
              "\n",
              "      <script>\n",
              "        const buttonEl =\n",
              "          document.querySelector('#df-5fe10a72-9ace-4035-8958-1c9f6e079ce0 button.colab-df-convert');\n",
              "        buttonEl.style.display =\n",
              "          google.colab.kernel.accessAllowed ? 'block' : 'none';\n",
              "\n",
              "        async function convertToInteractive(key) {\n",
              "          const element = document.querySelector('#df-5fe10a72-9ace-4035-8958-1c9f6e079ce0');\n",
              "          const dataTable =\n",
              "            await google.colab.kernel.invokeFunction('convertToInteractive',\n",
              "                                                     [key], {});\n",
              "          if (!dataTable) return;\n",
              "\n",
              "          const docLinkHtml = 'Like what you see? Visit the ' +\n",
              "            '<a target=\"_blank\" href=https://colab.research.google.com/notebooks/data_table.ipynb>data table notebook</a>'\n",
              "            + ' to learn more about interactive tables.';\n",
              "          element.innerHTML = '';\n",
              "          dataTable['output_type'] = 'display_data';\n",
              "          await google.colab.output.renderOutput(dataTable, element);\n",
              "          const docLink = document.createElement('div');\n",
              "          docLink.innerHTML = docLinkHtml;\n",
              "          element.appendChild(docLink);\n",
              "        }\n",
              "      </script>\n",
              "    </div>\n",
              "  </div>\n",
              "  "
            ]
          },
          "metadata": {},
          "execution_count": 16
        }
      ]
    },
    {
      "cell_type": "code",
      "source": [
        "from sklearn.metrics import classification_report\n",
        "\n",
        "print(classification_report(test_generator.classes, classes, target_names=test_generator.class_indices))"
      ],
      "metadata": {
        "id": "J7L4Zxv5F-gQ",
        "outputId": "81826215-2755-4b14-a712-06d87da089b3",
        "colab": {
          "base_uri": "https://localhost:8080/"
        }
      },
      "execution_count": null,
      "outputs": [
        {
          "output_type": "stream",
          "name": "stdout",
          "text": [
            "                                                        precision    recall  f1-score   support\n",
            "\n",
            "                            AM General Hummer SUV 2000       0.89      0.89      0.89        44\n",
            "                             Acura Integra Type R 2001       0.77      0.61      0.68        44\n",
            "                                   Acura RL Sedan 2012       0.45      0.41      0.43        32\n",
            "                                   Acura TL Sedan 2012       0.61      0.84      0.71        43\n",
            "                                  Acura TL Type-S 2008       0.66      0.60      0.62        42\n",
            "                                  Acura TSX Sedan 2012       0.71      0.50      0.59        40\n",
            "                              Acura ZDX Hatchback 2012       0.62      0.33      0.43        39\n",
            "              Aston Martin V8 Vantage Convertible 2012       0.55      0.40      0.46        45\n",
            "                    Aston Martin V8 Vantage Coupe 2012       0.58      0.44      0.50        41\n",
            "                  Aston Martin Virage Convertible 2012       0.42      0.58      0.49        33\n",
            "                        Aston Martin Virage Coupe 2012       0.74      0.76      0.75        38\n",
            "                                   Audi 100 Sedan 1994       0.61      0.50      0.55        40\n",
            "                                   Audi 100 Wagon 1994       0.60      0.43      0.50        42\n",
            "                                    Audi A5 Coupe 2012       0.52      0.54      0.53        41\n",
            "                                    Audi R8 Coupe 2012       0.71      0.58      0.64        43\n",
            "                            Audi RS 4 Convertible 2008       0.81      0.61      0.70        36\n",
            "                                    Audi S4 Sedan 2007       0.41      0.51      0.46        45\n",
            "                                    Audi S4 Sedan 2012       0.28      0.18      0.22        39\n",
            "                              Audi S5 Convertible 2012       0.75      0.57      0.65        42\n",
            "                                    Audi S5 Coupe 2012       0.38      0.43      0.40        42\n",
            "                                    Audi S6 Sedan 2011       0.46      0.61      0.52        46\n",
            "                                Audi TT Hatchback 2011       0.42      0.60      0.49        40\n",
            "                                 Audi TT RS Coupe 2012       0.56      0.49      0.52        39\n",
            "                                   Audi TTS Coupe 2012       0.61      0.26      0.37        42\n",
            "                                    Audi V8 Sedan 1994       0.50      0.40      0.44        43\n",
            "                         BMW 1 Series Convertible 2012       0.64      0.71      0.68        35\n",
            "                               BMW 1 Series Coupe 2012       0.64      0.66      0.65        41\n",
            "                               BMW 3 Series Sedan 2012       0.56      0.48      0.51        42\n",
            "                               BMW 3 Series Wagon 2012       0.58      0.68      0.63        41\n",
            "                         BMW 6 Series Convertible 2007       0.74      0.57      0.64        44\n",
            "                         BMW ActiveHybrid 5 Sedan 2012       0.49      0.85      0.62        34\n",
            "                                     BMW M3 Coupe 2012       0.51      0.61      0.56        44\n",
            "                                     BMW M5 Sedan 2010       0.53      0.44      0.48        41\n",
            "                               BMW M6 Convertible 2010       0.60      0.37      0.45        41\n",
            "                                       BMW X3 SUV 2012       0.62      0.68      0.65        38\n",
            "                                       BMW X5 SUV 2007       0.79      0.76      0.77        41\n",
            "                                       BMW X6 SUV 2012       0.93      0.60      0.72        42\n",
            "                               BMW Z4 Convertible 2012       0.69      0.62      0.66        40\n",
            "                             Bentley Arnage Sedan 2009       0.83      0.77      0.80        39\n",
            "            Bentley Continental Flying Spur Sedan 2007       0.59      0.55      0.56        44\n",
            "                     Bentley Continental GT Coupe 2007       0.45      0.52      0.48        46\n",
            "                     Bentley Continental GT Coupe 2012       0.49      0.59      0.53        34\n",
            "Bentley Continental Supersports Conv. Convertible 2012       0.73      0.67      0.70        36\n",
            "                           Bentley Mulsanne Sedan 2011       0.80      0.69      0.74        35\n",
            "                  Bugatti Veyron 16.4 Convertible 2009       0.58      0.59      0.58        32\n",
            "                        Bugatti Veyron 16.4 Coupe 2009       0.62      0.67      0.64        43\n",
            "                                Buick Enclave SUV 2012       0.45      0.88      0.59        42\n",
            "                                Buick Rainier SUV 2007       0.59      0.83      0.69        42\n",
            "                                   Buick Regal GS 2012       0.58      0.71      0.64        35\n",
            "                               Buick Verano Sedan 2012       0.67      0.49      0.56        37\n",
            "                             Cadillac CTS-V Sedan 2012       0.88      0.84      0.86        43\n",
            "                   Cadillac Escalade EXT Crew Cab 2007       0.86      0.68      0.76        44\n",
            "                                 Cadillac SRX SUV 2012       0.86      0.76      0.81        41\n",
            "                     Chevrolet Avalanche Crew Cab 2012       0.51      0.47      0.49        45\n",
            "                     Chevrolet Camaro Convertible 2012       0.67      0.45      0.54        44\n",
            "                              Chevrolet Cobalt SS 2010       0.78      0.51      0.62        41\n",
            "                   Chevrolet Corvette Convertible 2012       0.65      0.44      0.52        39\n",
            "       Chevrolet Corvette Ron Fellows Edition Z06 2007       0.93      0.68      0.78        37\n",
            "                           Chevrolet Corvette ZR1 2012       0.46      0.65      0.54        46\n",
            "                      Chevrolet Express Cargo Van 2007       0.38      0.31      0.34        29\n",
            "                            Chevrolet Express Van 2007       0.40      0.46      0.43        35\n",
            "                                 Chevrolet HHR SS 2010       0.88      0.81      0.84        36\n",
            "                           Chevrolet Impala Sedan 2007       0.40      0.51      0.45        43\n",
            "                    Chevrolet Malibu Hybrid Sedan 2010       0.70      0.55      0.62        38\n",
            "                           Chevrolet Malibu Sedan 2007       0.43      0.57      0.49        44\n",
            "                      Chevrolet Monte Carlo Coupe 2007       0.68      0.51      0.58        45\n",
            "    Chevrolet Silverado 1500 Classic Extended Cab 2007       0.86      0.71      0.78        42\n",
            "            Chevrolet Silverado 1500 Extended Cab 2012       0.39      0.40      0.39        43\n",
            "         Chevrolet Silverado 1500 Hybrid Crew Cab 2012       0.46      0.60      0.52        40\n",
            "             Chevrolet Silverado 1500 Regular Cab 2012       0.46      0.48      0.47        44\n",
            "           Chevrolet Silverado 2500HD Regular Cab 2012       0.59      0.45      0.51        38\n",
            "                            Chevrolet Sonic Sedan 2012       0.62      0.64      0.63        44\n",
            "                       Chevrolet Tahoe Hybrid SUV 2012       0.51      0.54      0.53        37\n",
            "                         Chevrolet TrailBlazer SS 2009       0.63      0.68      0.65        40\n",
            "                           Chevrolet Traverse SUV 2012       0.76      0.57      0.65        44\n",
            "                               Chrysler 300 SRT-8 2010       0.55      0.71      0.62        48\n",
            "                               Chrysler Aspen SUV 2009       0.76      0.79      0.77        43\n",
            "                   Chrysler Crossfire Convertible 2008       0.74      0.81      0.78        43\n",
            "                  Chrysler PT Cruiser Convertible 2008       0.95      0.82      0.88        45\n",
            "                     Chrysler Sebring Convertible 2010       0.88      0.57      0.70        40\n",
            "                Chrysler Town and Country Minivan 2012       0.88      0.81      0.85        37\n",
            "                              Daewoo Nubira Wagon 2002       0.82      0.62      0.71        45\n",
            "                              Dodge Caliber Wagon 2007       0.59      0.52      0.56        42\n",
            "                              Dodge Caliber Wagon 2012       0.44      0.65      0.53        40\n",
            "                            Dodge Caravan Minivan 1997       0.84      0.86      0.85        43\n",
            "                            Dodge Challenger SRT8 2011       0.61      0.77      0.68        39\n",
            "                              Dodge Charger SRT-8 2009       0.54      0.74      0.63        42\n",
            "                              Dodge Charger Sedan 2012       0.41      0.34      0.37        41\n",
            "                            Dodge Dakota Club Cab 2007       0.63      0.76      0.69        38\n",
            "                            Dodge Dakota Crew Cab 2010       0.82      0.34      0.48        41\n",
            "                                Dodge Durango SUV 2007       0.63      0.60      0.61        45\n",
            "                                Dodge Durango SUV 2012       0.72      0.65      0.68        43\n",
            "                                Dodge Journey SUV 2012       0.78      0.82      0.80        44\n",
            "                               Dodge Magnum Wagon 2008       0.74      0.72      0.73        40\n",
            "                   Dodge Ram Pickup 3500 Crew Cab 2010       0.84      0.64      0.73        42\n",
            "                   Dodge Ram Pickup 3500 Quad Cab 2009       0.45      0.80      0.57        44\n",
            "                         Dodge Sprinter Cargo Van 2009       0.74      0.64      0.68        39\n",
            "                            Eagle Talon Hatchback 1998       0.51      0.48      0.49        46\n",
            "                                  FIAT 500 Abarth 2012       0.76      0.96      0.85        27\n",
            "                             FIAT 500 Convertible 2012       0.71      0.88      0.78        33\n",
            "                   Ferrari 458 Italia Convertible 2012       0.48      0.69      0.57        39\n",
            "                         Ferrari 458 Italia Coupe 2012       0.53      0.21      0.31        42\n",
            "                   Ferrari California Convertible 2012       0.70      0.72      0.71        39\n",
            "                                 Ferrari FF Coupe 2012       0.51      0.67      0.58        42\n",
            "                               Fisker Karma Sedan 2012       0.76      0.58      0.66        43\n",
            "                          Ford E-Series Wagon Van 2012       0.94      0.92      0.93        37\n",
            "                                    Ford Edge SUV 2012       0.49      0.77      0.60        43\n",
            "                           Ford Expedition EL SUV 2009       0.74      0.80      0.77        44\n",
            "                           Ford F-150 Regular Cab 2007       0.91      0.67      0.77        45\n",
            "                           Ford F-150 Regular Cab 2012       0.97      0.76      0.85        42\n",
            "                   Ford F-450 Super Duty Crew Cab 2012       0.87      0.95      0.91        41\n",
            "                                Ford Fiesta Sedan 2012       0.87      0.62      0.72        42\n",
            "                                 Ford Focus Sedan 2007       0.74      0.64      0.69        45\n",
            "                            Ford Freestar Minivan 2007       0.86      0.86      0.86        44\n",
            "                                    Ford GT Coupe 2006       0.57      0.78      0.66        45\n",
            "                         Ford Mustang Convertible 2007       0.44      0.61      0.51        44\n",
            "                             Ford Ranger SuperCab 2011       0.73      0.45      0.56        42\n",
            "                                   GMC Acadia SUV 2012       0.69      0.77      0.73        44\n",
            "                          GMC Canyon Extended Cab 2012       0.74      0.65      0.69        40\n",
            "                                   GMC Savana Van 2012       0.68      0.68      0.68        68\n",
            "                                  GMC Terrain SUV 2012       0.89      0.76      0.82        41\n",
            "                             GMC Yukon Hybrid SUV 2012       0.42      0.74      0.53        42\n",
            "                            Geo Metro Convertible 1993       0.79      0.75      0.77        44\n",
            "                           HUMMER H2 SUT Crew Cab 2009       0.84      0.60      0.70        43\n",
            "                              HUMMER H3T Crew Cab 2010       0.67      0.79      0.73        39\n",
            "                               Honda Accord Coupe 2012       0.84      0.67      0.74        39\n",
            "                               Honda Accord Sedan 2012       0.44      0.45      0.44        38\n",
            "                            Honda Odyssey Minivan 2007       0.85      0.71      0.77        41\n",
            "                            Honda Odyssey Minivan 2012       0.72      0.74      0.73        42\n",
            "                             Hyundai Accent Sedan 2012       0.75      0.50      0.60        24\n",
            "                              Hyundai Azera Sedan 2012       0.72      0.69      0.71        42\n",
            "                            Hyundai Elantra Sedan 2007       0.64      0.69      0.67        42\n",
            "                Hyundai Elantra Touring Hatchback 2012       0.42      0.74      0.53        42\n",
            "                            Hyundai Genesis Sedan 2012       0.62      0.81      0.71        43\n",
            "                             Hyundai Santa Fe SUV 2012       0.97      0.71      0.82        42\n",
            "                      Hyundai Sonata Hybrid Sedan 2012       0.84      0.64      0.72        33\n",
            "                             Hyundai Sonata Sedan 2012       0.76      0.74      0.75        39\n",
            "                               Hyundai Tucson SUV 2012       0.90      0.60      0.72        43\n",
            "                       Hyundai Veloster Hatchback 2012       0.84      0.51      0.64        41\n",
            "                             Hyundai Veracruz SUV 2012       0.72      0.31      0.43        42\n",
            "                             Infiniti G Coupe IPL 2012       0.62      0.53      0.57        34\n",
            "                                Infiniti QX56 SUV 2011       0.84      0.81      0.83        32\n",
            "                               Isuzu Ascender SUV 2008       0.91      0.78      0.84        40\n",
            "                                    Jaguar XK XKR 2012       0.56      0.59      0.57        46\n",
            "                                 Jeep Compass SUV 2012       0.89      0.81      0.85        42\n",
            "                          Jeep Grand Cherokee SUV 2012       0.83      0.67      0.74        45\n",
            "                                 Jeep Liberty SUV 2012       0.74      0.64      0.68        44\n",
            "                                 Jeep Patriot SUV 2012       0.71      0.89      0.79        44\n",
            "                                Jeep Wrangler SUV 2012       0.65      0.98      0.78        43\n",
            "                      Lamborghini Aventador Coupe 2012       0.79      0.63      0.70        43\n",
            "                         Lamborghini Diablo Coupe 2001       0.69      0.80      0.74        44\n",
            "       Lamborghini Gallardo LP 570-4 Superleggera 2012       0.84      0.74      0.79        35\n",
            "                       Lamborghini Reventon Coupe 2008       0.79      0.83      0.81        36\n",
            "                               Land Rover LR2 SUV 2012       0.61      0.52      0.56        42\n",
            "                       Land Rover Range Rover SUV 2012       0.62      0.95      0.75        42\n",
            "                           Lincoln Town Car Sedan 2011       0.64      0.69      0.67        39\n",
            "                 MINI Cooper Roadster Convertible 2012       0.87      0.92      0.89        36\n",
            "                    Maybach Landaulet Convertible 2012       0.74      0.79      0.77        29\n",
            "                                Mazda Tribute SUV 2011       0.78      0.81      0.79        36\n",
            "                            McLaren MP4-12C Coupe 2012       0.68      0.82      0.74        44\n",
            "              Mercedes-Benz 300-Class Convertible 1993       0.69      0.77      0.73        48\n",
            "                      Mercedes-Benz C-Class Sedan 2012       0.86      0.56      0.68        45\n",
            "                      Mercedes-Benz E-Class Sedan 2012       0.51      0.60      0.55        43\n",
            "                      Mercedes-Benz S-Class Sedan 2012       0.75      0.68      0.71        44\n",
            "                     Mercedes-Benz SL-Class Coupe 2009       0.80      0.56      0.66        36\n",
            "                       Mercedes-Benz Sprinter Van 2012       0.71      0.90      0.80        41\n",
            "                          Mitsubishi Lancer Sedan 2012       0.38      0.70      0.50        47\n",
            "                               Nissan 240SX Coupe 1998       0.86      0.52      0.65        46\n",
            "                            Nissan Juke Hatchback 2012       0.61      0.70      0.65        44\n",
            "                            Nissan Leaf Hatchback 2012       0.57      0.88      0.69        42\n",
            "                          Nissan NV Passenger Van 2012       0.89      0.84      0.86        38\n",
            "                              Plymouth Neon Coupe 1999       0.60      0.82      0.69        44\n",
            "                           Porsche Panamera Sedan 2012       0.62      0.53      0.57        43\n",
            "                        Ram C-V Cargo Van Minivan 2012       1.00      0.56      0.72        41\n",
            "                          Rolls-Royce Ghost Sedan 2012       0.62      0.76      0.68        38\n",
            "   Rolls-Royce Phantom Drophead Coupe Convertible 2012       0.68      0.70      0.69        30\n",
            "                        Rolls-Royce Phantom Sedan 2012       0.73      0.50      0.59        44\n",
            "                               Scion xD Hatchback 2012       0.73      0.46      0.57        41\n",
            "                            Spyker C8 Convertible 2009       0.59      0.73      0.65        45\n",
            "                                  Spyker C8 Coupe 2009       0.46      0.43      0.44        42\n",
            "                               Suzuki Aerio Sedan 2007       0.69      0.47      0.56        38\n",
            "                             Suzuki Kizashi Sedan 2012       0.45      0.65      0.54        46\n",
            "                             Suzuki SX4 Hatchback 2012       0.42      0.60      0.49        42\n",
            "                                 Suzuki SX4 Sedan 2012       0.42      0.45      0.43        40\n",
            "                              Tesla Model S Sedan 2012       0.72      0.55      0.63        38\n",
            "                               Toyota 4Runner SUV 2012       0.97      0.70      0.81        40\n",
            "                               Toyota Camry Sedan 2012       0.53      0.58      0.56        43\n",
            "                             Toyota Corolla Sedan 2012       0.57      0.56      0.56        43\n",
            "                               Toyota Sequoia SUV 2012       1.00      0.63      0.77        38\n",
            "                      Volkswagen Beetle Hatchback 2012       0.69      0.88      0.77        42\n",
            "                        Volkswagen Golf Hatchback 1991       0.54      0.91      0.68        46\n",
            "                        Volkswagen Golf Hatchback 2012       0.83      0.44      0.58        43\n",
            "                                  Volvo 240 Sedan 1993       0.82      0.89      0.85        45\n",
            "                              Volvo C30 Hatchback 2012       0.63      0.80      0.71        41\n",
            "                                   Volvo XC90 SUV 2007       0.79      0.63      0.70        43\n",
            "                         smart fortwo Convertible 2012       0.71      0.75      0.73        40\n",
            "\n",
            "                                              accuracy                           0.65      8041\n",
            "                                             macro avg       0.67      0.65      0.65      8041\n",
            "                                          weighted avg       0.67      0.65      0.65      8041\n",
            "\n"
          ]
        }
      ]
    },
    {
      "cell_type": "markdown",
      "source": [
        "# Pickling the model for future use"
      ],
      "metadata": {
        "id": "Qa6EBnnmv5fF"
      }
    },
    {
      "cell_type": "code",
      "source": [
        "model_json = loaded_model.to_json()\n",
        "with open(\"/content/drive/MyDrive/best_resnet.hdf5\", \"w\") as json_file:\n",
        "    json_file.write(model_json)\n",
        "# serialize weights to HDF5\n",
        "loaded_model.save_weights(\"/content/drive/MyDrive/best_resnet.hdf5\")\n",
        "print(\"Saved model to disk\")"
      ],
      "metadata": {
        "id": "HELiNvZsqu99",
        "outputId": "67e86e6c-871a-4a52-f862-6f28fe7ea7b1",
        "colab": {
          "base_uri": "https://localhost:8080/"
        }
      },
      "execution_count": 26,
      "outputs": [
        {
          "output_type": "stream",
          "name": "stdout",
          "text": [
            "Saved model to disk\n"
          ]
        }
      ]
    },
    {
      "cell_type": "code",
      "source": [
        ""
      ],
      "metadata": {
        "id": "VAlA3DSRvin7"
      },
      "execution_count": null,
      "outputs": []
    }
  ]
}
