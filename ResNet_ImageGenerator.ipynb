{
  "nbformat": 4,
  "nbformat_minor": 0,
  "metadata": {
    "colab": {
      "name": "Pre_Processing.ipynb",
      "provenance": []
    },
    "kernelspec": {
      "name": "python3",
      "display_name": "Python 3"
    },
    "language_info": {
      "name": "python"
    },
    "accelerator": "GPU"
  },
  "cells": [
    {
      "cell_type": "code",
      "execution_count": 43,
      "metadata": {
        "id": "qCPEG_Gvtori"
      },
      "outputs": [],
      "source": [
        "import pandas as pd\n",
        "import numpy as np \n",
        "import cv2\n",
        "import matplotlib.pyplot as plt\n",
        "%matplotlib inline\n",
        "\n",
        "from keras.preprocessing.image import ImageDataGenerator, array_to_img, img_to_array, load_img\n",
        "import tensorflow as tf\n",
        "\n",
        "from tensorflow.keras.applications import ResNet50\n",
        "from keras.preprocessing.image import ImageDataGenerator\n",
        "from tensorflow.keras.layers import Dense, Dropout, Flatten\n",
        "from tensorflow.keras.optimizers import Adam\n",
        "from tensorflow.keras.models import Sequential\n",
        "\n",
        "import seaborn as sns\n",
        "import os\n",
        "import scipy.io"
      ]
    },
    {
      "cell_type": "code",
      "source": [
        "from google.colab import drive\n",
        "drive.mount('/content/drive')"
      ],
      "metadata": {
        "colab": {
          "base_uri": "https://localhost:8080/"
        },
        "id": "0R-F23W_t-F-",
        "outputId": "39e30ead-9e57-4163-b4ac-9788ab6c0bb9"
      },
      "execution_count": 1,
      "outputs": [
        {
          "output_type": "stream",
          "name": "stdout",
          "text": [
            "Mounted at /content/drive\n"
          ]
        }
      ]
    },
    {
      "cell_type": "code",
      "source": [
        "!unzip /content/drive/MyDrive/CAPSTONE_PROJECT/Annotations.zip > /dev/null\n",
        "!unzip /content/drive/MyDrive/CAPSTONE_PROJECT/Car+Images.zip > /dev/null"
      ],
      "metadata": {
        "id": "5rDPoFYy5o_Q"
      },
      "execution_count": 3,
      "outputs": []
    },
    {
      "cell_type": "code",
      "source": [
        "batch_size = 32\n",
        "\n",
        "train_datagen = ImageDataGenerator(\n",
        "        rotation_range=45,\n",
        "        width_shift_range=0.2,\n",
        "        height_shift_range=0.2,\n",
        "        validation_split=0.2,\n",
        "        rescale=1./255, # converting to floating points\n",
        "        shear_range=0.2,\n",
        "        zoom_range=0.2,\n",
        "        brightness_range=(0.3, 0.7),\n",
        "        horizontal_flip=True,\n",
        "        vertical_flip=False, # cars can't be inverted so its False, medical images it makes sense for it to be True\n",
        "        fill_mode='constant') # constant adds a black shadow which is good for object detection\n",
        "\n",
        "\n",
        "# this is the augmentation configuration we will use for testing:\n",
        "# only rescaling\n",
        "test_datagen = ImageDataGenerator(rescale=1./255)\n",
        "\n",
        "\n",
        "train_generator = train_datagen.flow_from_directory(\n",
        "        '/content/Car Images/Train Images',  \n",
        "        target_size=(224, 224),  \n",
        "        batch_size=batch_size,\n",
        "        # interpolation='bicubic',\n",
        "        subset='training',\n",
        "        class_mode='categorical')\n",
        "\n",
        "validation_generator = train_datagen.flow_from_directory(\n",
        "        '/content/Car Images/Test Images',\n",
        "        target_size=(224, 224),\n",
        "        batch_size=batch_size,\n",
        "        # interpolation='bicubic',\n",
        "        subset='validation',\n",
        "        class_mode='categorical')\n",
        "\n",
        "Number_Of_Training_Images = train_generator.classes.shape[0]\n",
        "steps_per_epoch = Number_Of_Training_Images/batch_size"
      ],
      "metadata": {
        "colab": {
          "base_uri": "https://localhost:8080/"
        },
        "id": "zc8NlobCrUdg",
        "outputId": "e0ceeb0f-7385-4667-d45d-b4e382ff5ea0"
      },
      "execution_count": 59,
      "outputs": [
        {
          "output_type": "stream",
          "name": "stdout",
          "text": [
            "Found 6598 images belonging to 196 classes.\n",
            "Found 1524 images belonging to 196 classes.\n"
          ]
        }
      ]
    },
    {
      "cell_type": "code",
      "source": [
        "model = Sequential()\n",
        "\n",
        "pretrained_model = ResNet50(\n",
        "                   include_top=False,\n",
        "                   input_shape=(224,224,3),\n",
        "                   pooling='avg',\n",
        "                   classes=196,\n",
        "                   weights='imagenet')\n",
        "for layer in pretrained_model.layers:\n",
        "        layer.trainable=False\n",
        "\n",
        "model.add(pretrained_model)\n",
        "\n",
        "model.add(Flatten())\n",
        "model.add(Dense(units = 512, activation = 'relu'))\n",
        "# model.add(Dropout(0.2))\n",
        "model.add(Dense(196, activation='softmax'))\n",
        "\n",
        "model.summary()\n"
      ],
      "metadata": {
        "id": "sqYqC3W_AHvs",
        "outputId": "6a5c0738-5588-47f5-9d9f-88257c783761",
        "colab": {
          "base_uri": "https://localhost:8080/"
        }
      },
      "execution_count": 61,
      "outputs": [
        {
          "output_type": "stream",
          "name": "stdout",
          "text": [
            "Model: \"sequential_8\"\n",
            "_________________________________________________________________\n",
            " Layer (type)                Output Shape              Param #   \n",
            "=================================================================\n",
            " resnet50 (Functional)       (None, 2048)              23587712  \n",
            "                                                                 \n",
            " flatten_8 (Flatten)         (None, 2048)              0         \n",
            "                                                                 \n",
            " dense_16 (Dense)            (None, 512)               1049088   \n",
            "                                                                 \n",
            " dense_17 (Dense)            (None, 196)               100548    \n",
            "                                                                 \n",
            "=================================================================\n",
            "Total params: 24,737,348\n",
            "Trainable params: 1,149,636\n",
            "Non-trainable params: 23,587,712\n",
            "_________________________________________________________________\n"
          ]
        }
      ]
    },
    {
      "cell_type": "code",
      "source": [
        "model.compile(optimizer=Adam(learning_rate=0.001), loss='categorical_crossentropy', metrics=['accuracy'])"
      ],
      "metadata": {
        "id": "07Lwq7LcB5Ka"
      },
      "execution_count": 62,
      "outputs": []
    },
    {
      "cell_type": "code",
      "source": [
        "history = model.fit(train_generator, epochs = 2, \n",
        "                    batch_size = batch_size,\n",
        "                    validation_data = validation_generator,\n",
        "                    steps_per_epoch = steps_per_epoch)\n",
        "# batch size = 32, dense layer = 512"
      ],
      "metadata": {
        "id": "TnAcgYvgCAfd",
        "outputId": "1918a4f2-1794-4d98-e222-0d82805fd5ad",
        "colab": {
          "base_uri": "https://localhost:8080/"
        }
      },
      "execution_count": 48,
      "outputs": [
        {
          "output_type": "stream",
          "name": "stdout",
          "text": [
            "Epoch 1/2\n",
            "206/206 [==============================] - 181s 871ms/step - loss: 5.2749 - accuracy: 0.0083 - val_loss: 5.2736 - val_accuracy: 0.0085\n",
            "Epoch 2/2\n",
            "206/206 [==============================] - 176s 852ms/step - loss: 5.2748 - accuracy: 0.0083 - val_loss: 5.2734 - val_accuracy: 0.0085\n"
          ]
        }
      ]
    },
    {
      "cell_type": "code",
      "source": [
        "history = model.fit(train_generator, epochs = 2, \n",
        "                    batch_size = batch_size,\n",
        "                    validation_data = validation_generator,\n",
        "                    steps_per_epoch = steps_per_epoch)\n",
        "# batch size = 16, dense layer = 512"
      ],
      "metadata": {
        "id": "fdSRRcHvFqwN",
        "outputId": "ae3bba9e-bc84-409e-d317-c6d06e140f4e",
        "colab": {
          "base_uri": "https://localhost:8080/"
        }
      },
      "execution_count": 50,
      "outputs": [
        {
          "output_type": "stream",
          "name": "stdout",
          "text": [
            "Epoch 1/2\n",
            "206/206 [==============================] - 189s 919ms/step - loss: 5.2747 - accuracy: 0.0083 - val_loss: 5.2733 - val_accuracy: 0.0085\n",
            "Epoch 2/2\n",
            "206/206 [==============================] - 178s 861ms/step - loss: 5.2745 - accuracy: 0.0083 - val_loss: 5.2731 - val_accuracy: 0.0085\n"
          ]
        }
      ]
    },
    {
      "cell_type": "code",
      "source": [
        "train_acc = history.history['accuracy']\n",
        "val_acc = history.history['val_accuracy']\n",
        "train_loss = history.history['loss']\n",
        "val_loss = history.history['val_loss']\n",
        "No_Of_Epochs = range(2)\n",
        "\n",
        "plt.plot(No_Of_Epochs, train_acc, marker = 'o', color = 'blue', markersize = 12, linewidth = 2, label = 'Training Accuracy')\n",
        "plt.plot(No_Of_Epochs, val_acc, marker = '.', color = 'red', markersize = 12,linewidth = 2, label = 'Validation Accuracy')\n",
        "\n",
        "plt.title('Training Accuracy and Testing Accuracy w.r.t Number of Epochs')\n",
        "plt.legend()\n",
        "plt.figure()\n",
        "\n",
        "plt.plot(No_Of_Epochs, train_loss, marker = 'o', color = 'blue', markersize = 12, linewidth = 2, label = 'Training Loss')\n",
        "plt.plot(No_Of_Epochs, val_acc, marker = '.', color = 'red', markersize = 12, linewidth = 2, label = 'Validation Loss')\n",
        "\n",
        "plt.title('Training Loss and Testing Loss w.r.t Number of Epochs')\n",
        "plt.legend()\n",
        "\n",
        "plt.show()"
      ],
      "metadata": {
        "id": "cIei4aDLPfhm",
        "outputId": "09c13fa3-03e7-4f8f-9359-903c95b6ad25",
        "colab": {
          "base_uri": "https://localhost:8080/",
          "height": 545
        }
      },
      "execution_count": 51,
      "outputs": [
        {
          "output_type": "display_data",
          "data": {
            "image/png": "[encoded data removed]",
            "text/plain": [
              "<Figure size 432x288 with 1 Axes>"
            ]
          },
          "metadata": {
            "needs_background": "light"
          }
        },
        {
          "output_type": "display_data",
          "data": {
            "image/png": "[encoded data removed]",
            "text/plain": [
              "<Figure size 432x288 with 1 Axes>"
            ]
          },
          "metadata": {
            "needs_background": "light"
          }
        }
      ]
    },
    {
      "cell_type": "code",
      "source": [
        "history = model.fit(train_generator, epochs = 2, \n",
        "                    batch_size = batch_size,\n",
        "                    validation_data = validation_generator,\n",
        "                    steps_per_epoch = steps_per_epoch)\n",
        "# dense layer increased = 1024"
      ],
      "metadata": {
        "id": "h4qe1bb-RAAk",
        "outputId": "25e95c3c-fe4b-4bd1-c0b3-1cd9765ab33e",
        "colab": {
          "base_uri": "https://localhost:8080/"
        }
      },
      "execution_count": 54,
      "outputs": [
        {
          "output_type": "stream",
          "name": "stdout",
          "text": [
            "Epoch 1/2\n",
            "206/206 [==============================] - 185s 881ms/step - loss: 5.3202 - accuracy: 0.0055 - val_loss: 5.2773 - val_accuracy: 0.0085\n",
            "Epoch 2/2\n",
            "206/206 [==============================] - 175s 852ms/step - loss: 5.2782 - accuracy: 0.0083 - val_loss: 5.2766 - val_accuracy: 0.0085\n"
          ]
        }
      ]
    },
    {
      "cell_type": "code",
      "source": [
        "history = model.fit(train_generator, epochs = 2, \n",
        "                    batch_size = batch_size,\n",
        "                    validation_data = validation_generator,\n",
        "                    steps_per_epoch = steps_per_epoch)\n",
        "# dense layer decreased = 256"
      ],
      "metadata": {
        "id": "yeXViS6oRUTj",
        "outputId": "e098b6ef-6b13-4bbd-d53d-f2862cf3a1f1",
        "colab": {
          "base_uri": "https://localhost:8080/"
        }
      },
      "execution_count": 55,
      "outputs": [
        {
          "output_type": "stream",
          "name": "stdout",
          "text": [
            "Epoch 1/2\n",
            "206/206 [==============================] - 174s 844ms/step - loss: 5.2774 - accuracy: 0.0083 - val_loss: 5.2759 - val_accuracy: 0.0085\n",
            "Epoch 2/2\n",
            "206/206 [==============================] - 175s 848ms/step - loss: 5.2770 - accuracy: 0.0083 - val_loss: 5.2753 - val_accuracy: 0.0085\n"
          ]
        }
      ]
    },
    {
      "cell_type": "code",
      "source": [
        "history = model.fit(train_generator, epochs = 2, \n",
        "                    batch_size = batch_size,\n",
        "                    validation_data = validation_generator,\n",
        "                    steps_per_epoch = steps_per_epoch)\n",
        "# dense layer decreased = 128"
      ],
      "metadata": {
        "id": "ycS7tcJ6UzD1",
        "outputId": "07d1bfc7-b5f9-4eec-d862-68426453b87a",
        "colab": {
          "base_uri": "https://localhost:8080/"
        }
      },
      "execution_count": 58,
      "outputs": [
        {
          "output_type": "stream",
          "name": "stdout",
          "text": [
            "Epoch 1/2\n",
            "206/206 [==============================] - 188s 893ms/step - loss: 5.2881 - accuracy: 0.0061 - val_loss: 5.2772 - val_accuracy: 0.0085\n",
            "Epoch 2/2\n",
            "206/206 [==============================] - 176s 853ms/step - loss: 5.2783 - accuracy: 0.0082 - val_loss: 5.2765 - val_accuracy: 0.0085\n"
          ]
        }
      ]
    },
    {
      "cell_type": "code",
      "source": [
        "history = model.fit(train_generator, epochs = 2, \n",
        "                    batch_size = batch_size,\n",
        "                    validation_data = validation_generator,\n",
        "                    steps_per_epoch = steps_per_epoch)\n",
        "# activation = softmax, dense layer - 512"
      ],
      "metadata": {
        "id": "Vea0IunFU78F",
        "outputId": "b296ce15-bf7e-48fb-9a74-bda0603e9c2e",
        "colab": {
          "base_uri": "https://localhost:8080/"
        }
      },
      "execution_count": 63,
      "outputs": [
        {
          "output_type": "stream",
          "name": "stdout",
          "text": [
            "Epoch 1/2\n",
            "206/206 [==============================] - 184s 871ms/step - loss: 5.3050 - accuracy: 0.0055 - val_loss: 5.2773 - val_accuracy: 0.0085\n",
            "Epoch 2/2\n",
            "206/206 [==============================] - 176s 855ms/step - loss: 5.2784 - accuracy: 0.0077 - val_loss: 5.2765 - val_accuracy: 0.0085\n"
          ]
        }
      ]
    },
    {
      "cell_type": "code",
      "source": [
        ""
      ],
      "metadata": {
        "id": "fhuYIYkzWoSl"
      },
      "execution_count": null,
      "outputs": []
    }
  ]
}