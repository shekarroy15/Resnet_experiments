{
  "nbformat": 4,
  "nbformat_minor": 0,
  "metadata": {
    "colab": {
      "name": "Pre_Processing.ipynb",
      "provenance": []
    },
    "kernelspec": {
      "name": "python3",
      "display_name": "Python 3"
    },
    "language_info": {
      "name": "python"
    },
    "accelerator": "GPU"
  },
  "cells": [
    {
      "cell_type": "code",
      "execution_count": null,
      "metadata": {
        "id": "qCPEG_Gvtori"
      },
      "outputs": [],
      "source": [
        "import pandas as pd\n",
        "import numpy as np \n",
        "import cv2\n",
        "import matplotlib.pyplot as plt\n",
        "%matplotlib inline\n",
        "\n",
        "import tensorflow as tf\n",
        "from keras.models import Sequential\n",
        "from keras.layers import Conv2D, MaxPooling2D\n",
        "from keras.layers import Activation, Dropout, Flatten, Dense\n",
        "from tensorflow.keras.optimizers import Adam\n",
        "\n",
        "import pathlib\n",
        "\n",
        "import seaborn as sns\n",
        "import os\n",
        "import scipy.io"
      ]
    },
    {
      "cell_type": "code",
      "source": [
        "from google.colab import drive\n",
        "drive.mount('/content/drive')"
      ],
      "metadata": {
        "colab": {
          "base_uri": "https://localhost:8080/"
        },
        "id": "0R-F23W_t-F-",
        "outputId": "030706ea-3f6e-4a54-ca95-7293485393d6"
      },
      "execution_count": null,
      "outputs": [
        {
          "output_type": "stream",
          "name": "stdout",
          "text": [
            "Drive already mounted at /content/drive; to attempt to forcibly remount, call drive.mount(\"/content/drive\", force_remount=True).\n"
          ]
        }
      ]
    },
    {
      "cell_type": "code",
      "source": [
        "!unzip /content/drive/MyDrive/CAPSTONE_PROJECT/Annotations.zip > /dev/null\n",
        "!unzip /content/drive/MyDrive/CAPSTONE_PROJECT/Car+Images.zip > /dev/null"
      ],
      "metadata": {
        "id": "5rDPoFYy5o_Q"
      },
      "execution_count": null,
      "outputs": []
    },
    {
      "cell_type": "code",
      "source": [
        "data_dir = pathlib.Path('/content/Car Images/Train Images')"
      ],
      "metadata": {
        "id": "xr4AAi9rKT1O"
      },
      "execution_count": null,
      "outputs": []
    },
    {
      "cell_type": "code",
      "source": [
        "img_height,img_width=224,224\n",
        "batch_size=32\n",
        "train_ds = tf.keras.preprocessing.image_dataset_from_directory(\n",
        "  data_dir,\n",
        "  validation_split=0.2,\n",
        "  subset=\"training\",\n",
        "  seed=42,\n",
        "  image_size=(img_height, img_width),\n",
        "  batch_size=batch_size)"
      ],
      "metadata": {
        "id": "-7PY2wJxKT3j",
        "outputId": "b6c82ce8-cf82-4a97-dad5-37ebb4d87560",
        "colab": {
          "base_uri": "https://localhost:8080/"
        }
      },
      "execution_count": null,
      "outputs": [
        {
          "output_type": "stream",
          "name": "stdout",
          "text": [
            "Found 8144 files belonging to 196 classes.\n",
            "Using 6516 files for training.\n"
          ]
        }
      ]
    },
    {
      "cell_type": "code",
      "source": [
        "val_ds = tf.keras.preprocessing.image_dataset_from_directory(\n",
        "  data_dir,\n",
        "  validation_split=0.2,\n",
        "  subset=\"validation\",\n",
        "  seed=42,\n",
        "  image_size=(img_height, img_width),\n",
        "  batch_size=batch_size)"
      ],
      "metadata": {
        "id": "ejjs1wb-KT6K",
        "outputId": "69d3f333-8c1b-40d3-980d-1beac51896d2",
        "colab": {
          "base_uri": "https://localhost:8080/"
        }
      },
      "execution_count": null,
      "outputs": [
        {
          "output_type": "stream",
          "name": "stdout",
          "text": [
            "Found 8144 files belonging to 196 classes.\n",
            "Using 1628 files for validation.\n"
          ]
        }
      ]
    },
    {
      "cell_type": "code",
      "source": [
        "model = Sequential()\n",
        "\n",
        "pretrained_model= tf.keras.applications.ResNet50(\n",
        "                   include_top=False,\n",
        "                   input_shape=(224,224,3),\n",
        "                   pooling='avg',\n",
        "                   classes=196,\n",
        "                   weights='imagenet')\n",
        "for layer in pretrained_model.layers:\n",
        "        layer.trainable=False\n",
        "\n",
        "model.add(pretrained_model)\n",
        "\n",
        "model.add(Flatten())\n",
        "model.add(Dense(512, activation='relu'))\n",
        "model.add(Dense(196, activation='softmax'))"
      ],
      "metadata": {
        "id": "8szAI_gdKT8x"
      },
      "execution_count": null,
      "outputs": []
    },
    {
      "cell_type": "code",
      "source": [
        "model.summary()"
      ],
      "metadata": {
        "id": "cXTHh2zzKT_X",
        "outputId": "a913aa69-d033-4db7-ecbd-e0d01f43b8af",
        "colab": {
          "base_uri": "https://localhost:8080/"
        }
      },
      "execution_count": null,
      "outputs": [
        {
          "output_type": "stream",
          "name": "stdout",
          "text": [
            "Model: \"sequential\"\n",
            "_________________________________________________________________\n",
            " Layer (type)                Output Shape              Param #   \n",
            "=================================================================\n",
            " resnet50 (Functional)       (None, 2048)              23587712  \n",
            "                                                                 \n",
            " flatten_17 (Flatten)        (None, 2048)              0         \n",
            "                                                                 \n",
            " dense_35 (Dense)            (None, 512)               1049088   \n",
            "                                                                 \n",
            " dense_36 (Dense)            (None, 196)               100548    \n",
            "                                                                 \n",
            "=================================================================\n",
            "Total params: 24,737,348\n",
            "Trainable params: 1,149,636\n",
            "Non-trainable params: 23,587,712\n",
            "_________________________________________________________________\n"
          ]
        }
      ]
    },
    {
      "cell_type": "code",
      "source": [
        "model.compile(optimizer=Adam(learning_rate=0.001, epsilon=1e-08, decay=0.0),loss='sparse_categorical_crossentropy', metrics=['accuracy'])\n",
        "\n",
        "history = model.fit(train_ds, validation_data=val_ds, epochs=11)"
      ],
      "metadata": {
        "id": "I6PUWu11K6N-",
        "outputId": "c934ec3f-b73a-4f06-9142-58ad170c7f91",
        "colab": {
          "base_uri": "https://localhost:8080/"
        }
      },
      "execution_count": null,
      "outputs": [
        {
          "output_type": "stream",
          "name": "stdout",
          "text": [
            "Epoch 1/11\n",
            "204/204 [==============================] - 63s 286ms/step - loss: 17.5525 - accuracy: 0.0092 - val_loss: 17.8562 - val_accuracy: 0.0074\n",
            "Epoch 2/11\n",
            "204/204 [==============================] - 57s 277ms/step - loss: 17.5525 - accuracy: 0.0092 - val_loss: 17.8562 - val_accuracy: 0.0074\n",
            "Epoch 3/11\n",
            "204/204 [==============================] - 58s 278ms/step - loss: 17.5525 - accuracy: 0.0092 - val_loss: 17.8562 - val_accuracy: 0.0074\n",
            "Epoch 4/11\n",
            "204/204 [==============================] - 58s 278ms/step - loss: 17.5525 - accuracy: 0.0092 - val_loss: 17.8562 - val_accuracy: 0.0074\n",
            "Epoch 5/11\n",
            "204/204 [==============================] - 58s 278ms/step - loss: 17.5525 - accuracy: 0.0092 - val_loss: 17.8562 - val_accuracy: 0.0074\n",
            "Epoch 6/11\n",
            "204/204 [==============================] - 58s 278ms/step - loss: 17.5525 - accuracy: 0.0092 - val_loss: 17.8562 - val_accuracy: 0.0074\n",
            "Epoch 7/11\n",
            "204/204 [==============================] - 58s 278ms/step - loss: 17.5525 - accuracy: 0.0092 - val_loss: 17.8562 - val_accuracy: 0.0074\n",
            "Epoch 8/11\n",
            "204/204 [==============================] - 58s 278ms/step - loss: 17.5525 - accuracy: 0.0092 - val_loss: 17.8562 - val_accuracy: 0.0074\n",
            "Epoch 9/11\n",
            "204/204 [==============================] - 57s 277ms/step - loss: 17.5525 - accuracy: 0.0092 - val_loss: 17.8562 - val_accuracy: 0.0074\n",
            "Epoch 10/11\n",
            "204/204 [==============================] - 58s 278ms/step - loss: 17.5525 - accuracy: 0.0092 - val_loss: 17.8562 - val_accuracy: 0.0074\n",
            "Epoch 11/11\n",
            "204/204 [==============================] - 59s 285ms/step - loss: 17.5525 - accuracy: 0.0092 - val_loss: 17.8562 - val_accuracy: 0.0074\n"
          ]
        }
      ]
    }
  ]
}